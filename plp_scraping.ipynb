{
 "cells": [
  {
   "cell_type": "code",
   "execution_count": 1,
   "id": "9b83b2bb",
   "metadata": {},
   "outputs": [],
   "source": [
    "import pandas as pd\n",
    "from bs4 import BeautifulSoup as bs\n",
    "import requests"
   ]
  },
  {
   "cell_type": "code",
   "execution_count": 2,
   "id": "20eea8df",
   "metadata": {},
   "outputs": [],
   "source": [
    "url=\"https://www.candere.com/jewellery/diamond-earrings.html\""
   ]
  },
  {
   "cell_type": "code",
   "execution_count": 3,
   "id": "ba53a1a7",
   "metadata": {},
   "outputs": [],
   "source": [
    "data=requests.get(url).text"
   ]
  },
  {
   "cell_type": "code",
   "execution_count": 11,
   "id": "f12b24a4",
   "metadata": {},
   "outputs": [],
   "source": [
    "# cleaning data\n",
    "soup=bs(data,\"lxml\")"
   ]
  },
  {
   "cell_type": "code",
   "execution_count": 34,
   "id": "6d8d946c",
   "metadata": {},
   "outputs": [],
   "source": [
    "div=soup.find_all(\"div\", class_=\"product details product-item-details\")"
   ]
  },
  {
   "cell_type": "code",
   "execution_count": 22,
   "id": "1fa3e812",
   "metadata": {},
   "outputs": [],
   "source": [
    "# product name\n",
    "pname=div.find(\"a\", class_=\"product-item-link\").text"
   ]
  },
  {
   "cell_type": "code",
   "execution_count": 25,
   "id": "2bf79ca9",
   "metadata": {},
   "outputs": [],
   "source": [
    "# product price\n",
    "p_price=div.find(\"span\",class_=\"price\").text"
   ]
  },
  {
   "cell_type": "code",
   "execution_count": 28,
   "id": "f1560822",
   "metadata": {},
   "outputs": [],
   "source": [
    "# old price\n",
    "old_price=div.find(\"span\",class_=\"product_oldPrice_\").text"
   ]
  },
  {
   "cell_type": "code",
   "execution_count": 31,
   "id": "6eef974c",
   "metadata": {},
   "outputs": [],
   "source": [
    "# product offer\n",
    "p_offer=div.find(\"div\",class_=\"coupon_text_wrapper\").text"
   ]
  },
  {
   "cell_type": "code",
   "execution_count": 38,
   "id": "af397b86",
   "metadata": {},
   "outputs": [],
   "source": [
    "p_name=[]\n",
    "price=[]\n",
    "old_p=[]\n",
    "offer=[]\n",
    "my_dict={}\n",
    "for i in range(1,10):\n",
    "    url=\"https://www.candere.com/jewellery/diamond-earrings.html?p=\"+str(i)\n",
    "    data=requests.get(url).text\n",
    "    soup=bs(data,\"lxml\")\n",
    "    div=soup.find_all(\"div\", class_=\"product details product-item-details\")\n",
    "    for i in div:\n",
    "        pname=i.find(\"a\", class_=\"product-item-link\").text\n",
    "        p_name.append(pname)\n",
    "        p_price=i.find(\"span\",class_=\"price\").text\n",
    "        price.append(p_price)\n",
    "        old_price=i.find(\"span\",class_=\"product_oldPrice_\").text\n",
    "        old_p.append(old_price)\n",
    "        p_offer=i.find(\"div\",class_=\"coupon_text_wrapper\").text\n",
    "        offer.append(p_offer)\n",
    "my_dict[\"product_name\"]=p_name\n",
    "my_dict['product_price']=price\n",
    "my_dict['old_price']=old_p\n",
    "my_dict['product_offer']=offer\n",
    "df=pd.DataFrame(my_dict)"
   ]
  },
  {
   "cell_type": "code",
   "execution_count": 39,
   "id": "5bc08433",
   "metadata": {},
   "outputs": [
    {
     "data": {
      "text/html": [
       "<div>\n",
       "<style scoped>\n",
       "    .dataframe tbody tr th:only-of-type {\n",
       "        vertical-align: middle;\n",
       "    }\n",
       "\n",
       "    .dataframe tbody tr th {\n",
       "        vertical-align: top;\n",
       "    }\n",
       "\n",
       "    .dataframe thead th {\n",
       "        text-align: right;\n",
       "    }\n",
       "</style>\n",
       "<table border=\"1\" class=\"dataframe\">\n",
       "  <thead>\n",
       "    <tr style=\"text-align: right;\">\n",
       "      <th></th>\n",
       "      <th>product_name</th>\n",
       "      <th>product_price</th>\n",
       "      <th>old_price</th>\n",
       "      <th>product_offer</th>\n",
       "    </tr>\n",
       "  </thead>\n",
       "  <tbody>\n",
       "    <tr>\n",
       "      <th>0</th>\n",
       "      <td>Lilac Gemstone Stud Earrings</td>\n",
       "      <td>₹27,001.00</td>\n",
       "      <td>₹28,717.00</td>\n",
       "      <td>50% OFF on Making</td>\n",
       "    </tr>\n",
       "    <tr>\n",
       "      <th>1</th>\n",
       "      <td>Alara Diamond Earring</td>\n",
       "      <td>₹23,997.00</td>\n",
       "      <td>₹26,984.00</td>\n",
       "      <td>100% OFF on Making</td>\n",
       "    </tr>\n",
       "    <tr>\n",
       "      <th>2</th>\n",
       "      <td>Aaron Diamond Mens Stud</td>\n",
       "      <td>₹19,067.00</td>\n",
       "      <td>₹21,169.00</td>\n",
       "      <td>100% OFF on Making</td>\n",
       "    </tr>\n",
       "    <tr>\n",
       "      <th>3</th>\n",
       "      <td>Valdis Diamond Earrings</td>\n",
       "      <td>₹31,772.00</td>\n",
       "      <td>₹37,726.00</td>\n",
       "      <td>100% OFF on Making</td>\n",
       "    </tr>\n",
       "    <tr>\n",
       "      <th>4</th>\n",
       "      <td>Evil eye Diamond Sui Dhaga Earrings</td>\n",
       "      <td>₹32,169.00</td>\n",
       "      <td>₹38,420.00</td>\n",
       "      <td>100% OFF on Making</td>\n",
       "    </tr>\n",
       "    <tr>\n",
       "      <th>...</th>\n",
       "      <td>...</td>\n",
       "      <td>...</td>\n",
       "      <td>...</td>\n",
       "      <td>...</td>\n",
       "    </tr>\n",
       "    <tr>\n",
       "      <th>139</th>\n",
       "      <td>Mouni Diamond Earring</td>\n",
       "      <td>₹35,533.00</td>\n",
       "      <td>₹40,068.00</td>\n",
       "      <td>100% OFF on Making</td>\n",
       "    </tr>\n",
       "    <tr>\n",
       "      <th>140</th>\n",
       "      <td>Preity Diamond Earring</td>\n",
       "      <td>₹40,647.00</td>\n",
       "      <td>₹46,548.00</td>\n",
       "      <td>100% OFF on Making</td>\n",
       "    </tr>\n",
       "    <tr>\n",
       "      <th>141</th>\n",
       "      <td>Nidra Diamond Earring</td>\n",
       "      <td>₹39,353.00</td>\n",
       "      <td>₹44,939.00</td>\n",
       "      <td>100% OFF on Making</td>\n",
       "    </tr>\n",
       "    <tr>\n",
       "      <th>142</th>\n",
       "      <td>Omya Diamond Earring</td>\n",
       "      <td>₹27,510.00</td>\n",
       "      <td>₹32,273.00</td>\n",
       "      <td>100% OFF on Making</td>\n",
       "    </tr>\n",
       "    <tr>\n",
       "      <th>143</th>\n",
       "      <td>Carlain Diamond Earring</td>\n",
       "      <td>₹27,172.00</td>\n",
       "      <td>₹30,815.00</td>\n",
       "      <td>100% OFF on Making</td>\n",
       "    </tr>\n",
       "  </tbody>\n",
       "</table>\n",
       "<p>144 rows × 4 columns</p>\n",
       "</div>"
      ],
      "text/plain": [
       "                            product_name product_price   old_price  \\\n",
       "0           Lilac Gemstone Stud Earrings    ₹27,001.00  ₹28,717.00   \n",
       "1                  Alara Diamond Earring    ₹23,997.00  ₹26,984.00   \n",
       "2                Aaron Diamond Mens Stud    ₹19,067.00  ₹21,169.00   \n",
       "3                Valdis Diamond Earrings    ₹31,772.00  ₹37,726.00   \n",
       "4    Evil eye Diamond Sui Dhaga Earrings    ₹32,169.00  ₹38,420.00   \n",
       "..                                   ...           ...         ...   \n",
       "139                Mouni Diamond Earring    ₹35,533.00  ₹40,068.00   \n",
       "140               Preity Diamond Earring    ₹40,647.00  ₹46,548.00   \n",
       "141                Nidra Diamond Earring    ₹39,353.00  ₹44,939.00   \n",
       "142                 Omya Diamond Earring    ₹27,510.00  ₹32,273.00   \n",
       "143              Carlain Diamond Earring    ₹27,172.00  ₹30,815.00   \n",
       "\n",
       "          product_offer  \n",
       "0     50% OFF on Making  \n",
       "1    100% OFF on Making  \n",
       "2    100% OFF on Making  \n",
       "3    100% OFF on Making  \n",
       "4    100% OFF on Making  \n",
       "..                  ...  \n",
       "139  100% OFF on Making  \n",
       "140  100% OFF on Making  \n",
       "141  100% OFF on Making  \n",
       "142  100% OFF on Making  \n",
       "143  100% OFF on Making  \n",
       "\n",
       "[144 rows x 4 columns]"
      ]
     },
     "execution_count": 39,
     "metadata": {},
     "output_type": "execute_result"
    }
   ],
   "source": [
    "df"
   ]
  },
  {
   "cell_type": "code",
   "execution_count": 40,
   "id": "0727306d",
   "metadata": {},
   "outputs": [
    {
     "data": {
      "text/plain": [
       "product_name     0\n",
       "product_price    0\n",
       "old_price        0\n",
       "product_offer    0\n",
       "dtype: int64"
      ]
     },
     "execution_count": 40,
     "metadata": {},
     "output_type": "execute_result"
    }
   ],
   "source": [
    "df.isnull().sum()"
   ]
  },
  {
   "cell_type": "code",
   "execution_count": null,
   "id": "26bd5fb7",
   "metadata": {},
   "outputs": [],
   "source": []
  }
 ],
 "metadata": {
  "kernelspec": {
   "display_name": "Python 3 (ipykernel)",
   "language": "python",
   "name": "python3"
  },
  "language_info": {
   "codemirror_mode": {
    "name": "ipython",
    "version": 3
   },
   "file_extension": ".py",
   "mimetype": "text/x-python",
   "name": "python",
   "nbconvert_exporter": "python",
   "pygments_lexer": "ipython3",
   "version": "3.9.13"
  }
 },
 "nbformat": 4,
 "nbformat_minor": 5
}
